{
  "nbformat": 4,
  "nbformat_minor": 0,
  "metadata": {
    "colab": {
      "provenance": [],
      "authorship_tag": "ABX9TyPjQtfk6yrkZJMfd2nX5jIz"
    },
    "kernelspec": {
      "name": "python3",
      "display_name": "Python 3"
    },
    "language_info": {
      "name": "python"
    }
  },
  "cells": [
    {
      "cell_type": "code",
      "execution_count": 1,
      "metadata": {
        "colab": {
          "base_uri": "https://localhost:8080/"
        },
        "id": "MCDJlJaUwmUC",
        "outputId": "cd8b60fa-fba4-41d1-8a41-90a7346f648a"
      },
      "outputs": [
        {
          "output_type": "stream",
          "name": "stdout",
          "text": [
            "42 3.14 HelloPy\n",
            "[1, 2, 3] (4, 5, 6) {'n': 'Ari', 'a': 20} {8, 9, 7}\n"
          ]
        }
      ],
      "source": [
        "# Variables\n",
        "num = 42\n",
        "pi = 3.14\n",
        "text = \"HelloPy\"\n",
        "lst = [1,2,3]\n",
        "tup = (4,5,6)\n",
        "dct = {\"n\":\"Ari\",\"a\":20}\n",
        "st = {7,8,9}\n",
        "\n",
        "print(num, pi, text)\n",
        "print(lst, tup, dct, st)\n"
      ]
    },
    {
      "cell_type": "code",
      "source": [
        "# Input/Output\n",
        "name = input(\"Name: \")\n",
        "age = int(input(\"Age: \"))\n",
        "print(f\"Hi {name}, age {age}\")\n"
      ],
      "metadata": {
        "colab": {
          "base_uri": "https://localhost:8080/"
        },
        "id": "Fhl4rCFKwy-6",
        "outputId": "1b8d1f6c-4681-4c1c-aa45-ca57b5eb7194"
      },
      "execution_count": 2,
      "outputs": [
        {
          "output_type": "stream",
          "name": "stdout",
          "text": [
            "Name: jeebesh\n",
            "Age: 20\n",
            "Hi jeebesh, age 20\n"
          ]
        }
      ]
    },
    {
      "cell_type": "code",
      "source": [
        "# Conditional\n",
        "if age >= 18:\n",
        "    print(\"Adult\")\n",
        "elif age >= 13:\n",
        "    print(\"Teen\")\n",
        "else:\n",
        "    print(\"Child\")\n"
      ],
      "metadata": {
        "colab": {
          "base_uri": "https://localhost:8080/"
        },
        "id": "nL3S5pgTxGaQ",
        "outputId": "29e756e7-9571-403d-f0f3-3bce86c9696b"
      },
      "execution_count": 3,
      "outputs": [
        {
          "output_type": "stream",
          "name": "stdout",
          "text": [
            "Adult\n"
          ]
        }
      ]
    },
    {
      "cell_type": "code",
      "source": [
        "# For loop\n",
        "print(\"For loop:\")\n",
        "for x in range(1,6):\n",
        "    print(x)\n"
      ],
      "metadata": {
        "colab": {
          "base_uri": "https://localhost:8080/"
        },
        "id": "h0XqM0GixGLp",
        "outputId": "8356e8a7-57a2-422d-acbb-ff575b133dab"
      },
      "execution_count": 4,
      "outputs": [
        {
          "output_type": "stream",
          "name": "stdout",
          "text": [
            "For loop:\n",
            "1\n",
            "2\n",
            "3\n",
            "4\n",
            "5\n"
          ]
        }
      ]
    },
    {
      "cell_type": "code",
      "source": [
        "# While loop\n",
        "print(\"While loop:\")\n",
        "c = 1\n",
        "while c <= 5:\n",
        "    print(c)\n",
        "    c += 1\n"
      ],
      "metadata": {
        "colab": {
          "base_uri": "https://localhost:8080/"
        },
        "id": "HI4xGWFwxFwh",
        "outputId": "7b94216b-a856-4e7b-9900-eda560a913fd"
      },
      "execution_count": 5,
      "outputs": [
        {
          "output_type": "stream",
          "name": "stdout",
          "text": [
            "While loop:\n",
            "1\n",
            "2\n",
            "3\n",
            "4\n",
            "5\n"
          ]
        }
      ]
    },
    {
      "cell_type": "code",
      "source": [
        "# Iterations\n",
        "x = [10,20,30]\n",
        "it = iter(x)\n",
        "print(\"Iterations:\")\n",
        "while True:\n",
        "    try:\n",
        "        print(next(it))\n",
        "    except StopIteration:\n",
        "        break\n"
      ],
      "metadata": {
        "colab": {
          "base_uri": "https://localhost:8080/"
        },
        "id": "cLQPLIJ_xOrp",
        "outputId": "3907d71e-83e9-4915-edab-37352d4a57b3"
      },
      "execution_count": 6,
      "outputs": [
        {
          "output_type": "stream",
          "name": "stdout",
          "text": [
            "Iterations:\n",
            "10\n",
            "20\n",
            "30\n"
          ]
        }
      ]
    },
    {
      "cell_type": "code",
      "source": [
        "# Functions\n",
        "def hi():\n",
        "    print(\"Welcome\")\n",
        "\n",
        "hi()\n",
        "\n",
        "def add(a,b):\n",
        "    return a+b\n",
        "\n",
        "print(\"Sum:\", add(5,3))\n",
        "\n",
        "def fac(n):\n",
        "    r = 1\n",
        "    for i in range(1,n+1):\n",
        "        r *= i\n",
        "    return r\n",
        "\n",
        "print(\"Fac(5):\", fac(5))\n"
      ],
      "metadata": {
        "colab": {
          "base_uri": "https://localhost:8080/"
        },
        "id": "JprMjW2MxRSh",
        "outputId": "96306bc2-b97a-409b-ec68-03e9ca0ba5e0"
      },
      "execution_count": 7,
      "outputs": [
        {
          "output_type": "stream",
          "name": "stdout",
          "text": [
            "Welcome\n",
            "Sum: 8\n",
            "Fac(5): 120\n"
          ]
        }
      ]
    },
    {
      "cell_type": "code",
      "source": [
        "# Lists and Dicts\n",
        "fr = [\"Mango\",\"Orange\",\"Grape\"]\n",
        "print(\"Fruits:\")\n",
        "for f in fr:\n",
        "    print(f)\n",
        "\n",
        "for i in range(len(fr)):\n",
        "    print(i+1, fr[i])\n",
        "\n",
        "person = {\"name\": \"abc\", \"age\": 19, \"city\": \"Kathmandu\"}\n",
        "print(person[\"name\"], person[\"age\"])\n",
        "\n",
        "for key, value in person.items():\n",
        "    print(key, \":\", value)\n"
      ],
      "metadata": {
        "colab": {
          "base_uri": "https://localhost:8080/"
        },
        "id": "bradEkZvxSs4",
        "outputId": "4785a5c3-1deb-47af-de9d-e85d38a7a3d8"
      },
      "execution_count": 8,
      "outputs": [
        {
          "output_type": "stream",
          "name": "stdout",
          "text": [
            "Fruits:\n",
            "Mango\n",
            "Orange\n",
            "Grape\n",
            "1 Mango\n",
            "2 Orange\n",
            "3 Grape\n",
            "abc 19\n",
            "name : abc\n",
            "age : 19\n",
            "city : Kathmandu\n"
          ]
        }
      ]
    }
  ]
}
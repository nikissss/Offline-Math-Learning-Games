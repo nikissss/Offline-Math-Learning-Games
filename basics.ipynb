{
 "cells": [
  {
   "cell_type": "markdown",
   "id": "9323a7f5",
   "metadata": {},
   "source": [
    "# Python Basics: Classes and Functions\n",
    "This notebook demonstrates how to define and use **functions** and **classes** in Python.\n"
   ]
  },
  {
   "cell_type": "markdown",
   "id": "db906d55",
   "metadata": {},
   "source": [
    "### 1. A Simple Function\n",
    "Functions help us reuse code and organize logic.\n"
   ]
  },
  {
   "cell_type": "code",
   "execution_count": 1,
   "id": "3a821860",
   "metadata": {},
   "outputs": [
    {
     "name": "stdout",
     "output_type": "stream",
     "text": [
      "Hello, welcome to Python!\n"
     ]
    }
   ],
   "source": [
    "def greet():\n",
    "    print(\"Hello, welcome to Python!\")\n",
    "\n",
    "greet()\n"
   ]
  },
  {
   "cell_type": "markdown",
   "id": "f8dcd36e",
   "metadata": {},
   "source": [
    "### 2. Function with Parameters and Return Value\n"
   ]
  },
  {
   "cell_type": "code",
   "execution_count": 2,
   "id": "9c7b085f",
   "metadata": {},
   "outputs": [
    {
     "name": "stdout",
     "output_type": "stream",
     "text": [
      "The sum is: 12\n"
     ]
    }
   ],
   "source": [
    "def add_numbers(a, b):\n",
    "    return a + b\n",
    "\n",
    "result = add_numbers(5, 7)\n",
    "print(\"The sum is:\", result)\n"
   ]
  },
  {
   "cell_type": "markdown",
   "id": "b945374c",
   "metadata": {},
   "source": [
    "### 3. A Simple Class\n",
    "Classes allow us to bundle data and functions (methods) together.\n"
   ]
  },
  {
   "cell_type": "code",
   "execution_count": 3,
   "id": "e9922bbf",
   "metadata": {},
   "outputs": [
    {
     "name": "stdout",
     "output_type": "stream",
     "text": [
      "Hi, my name is Manasi and I am 21 years old.\n"
     ]
    }
   ],
   "source": [
    "class Person:\n",
    "    def __init__(self, name, age):\n",
    "        self.name = name\n",
    "        self.age = age\n",
    "    \n",
    "    def introduce(self):\n",
    "        print(f\"Hi, my name is {self.name} and I am {self.age} years old.\")\n",
    "\n",
    "# Creating an object of Person\n",
    "p1 = Person(\"Manasi\", 21)\n",
    "p1.introduce()\n"
   ]
  },
  {
   "cell_type": "markdown",
   "id": "1a5d18bb",
   "metadata": {},
   "source": [
    "### 4. Class with Additional Methods\n"
   ]
  },
  {
   "cell_type": "code",
   "execution_count": 4,
   "id": "2087a0d6",
   "metadata": {},
   "outputs": [
    {
     "name": "stdout",
     "output_type": "stream",
     "text": [
      "3 + 4 = 7\n",
      "10 - 6 = 4\n"
     ]
    }
   ],
   "source": [
    "class Calculator:\n",
    "    def add(self, x, y):\n",
    "        return x + y\n",
    "    \n",
    "    def subtract(self, x, y):\n",
    "        return x - y\n",
    "\n",
    "calc = Calculator()\n",
    "print(\"3 + 4 =\", calc.add(3, 4))\n",
    "print(\"10 - 6 =\", calc.subtract(10, 6))\n"
   ]
  }
 ],
 "metadata": {
  "kernelspec": {
   "display_name": "venv (3.12.3)",
   "language": "python",
   "name": "python3"
  },
  "language_info": {
   "codemirror_mode": {
    "name": "ipython",
    "version": 3
   },
   "file_extension": ".py",
   "mimetype": "text/x-python",
   "name": "python",
   "nbconvert_exporter": "python",
   "pygments_lexer": "ipython3",
   "version": "3.12.3"
  }
 },
 "nbformat": 4,
 "nbformat_minor": 5
}

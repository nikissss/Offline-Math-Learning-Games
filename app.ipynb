{
 "cells": [
  {
   "cell_type": "code",
   "execution_count": 7,
   "id": "78413bab",
   "metadata": {},
   "outputs": [
    {
     "name": "stdout",
     "output_type": "stream",
     "text": [
      "\n",
      "Hello,\n",
      "\n",
      "This can be used for emails and stuff\n",
      "\n",
      ":|\n",
      "\n"
     ]
    }
   ],
   "source": [
    "um = \"\"\"\n",
    "Hello,\n",
    "\n",
    "This can be used for emails and stuff\n",
    "\n",
    ":|\n",
    "\"\"\"\n",
    "print(um)"
   ]
  },
  {
   "cell_type": "markdown",
   "id": "e00041f6",
   "metadata": {},
   "source": [
    "Strings"
   ]
  },
  {
   "cell_type": "code",
   "execution_count": null,
   "id": "2b8cc425",
   "metadata": {},
   "outputs": [
    {
     "name": "stdout",
     "output_type": "stream",
     "text": [
      "6\n",
      "P\n",
      "n\n",
      "Pyt\n",
      "Pyt\n",
      "Python\n"
     ]
    }
   ],
   "source": [
    "course=\"Python\"\n",
    "print(len(course))\n",
    "print(course[0]) #first character\n",
    "print(course[-1]) #last character\n",
    "print(course[0:3]) #upto third character\n",
    "print(course[:3]) \n",
    "print(course[0:])"
   ]
  },
  {
   "cell_type": "markdown",
   "id": "828c3339",
   "metadata": {},
   "source": [
    "Escape Characters"
   ]
  },
  {
   "cell_type": "code",
   "execution_count": 11,
   "id": "793b0f53",
   "metadata": {},
   "outputs": [
    {
     "name": "stdout",
     "output_type": "stream",
     "text": [
      "There is a double quotation in here \" see!\n",
      "Hello \n",
      "Who are you?\n"
     ]
    }
   ],
   "source": [
    "py = \"There is a double quotation in here \\\" see!\" #can be \\\", \\', \\\\\n",
    "print(py)\n",
    "py1 = \"Hello \\nWho are you?\"\n",
    "print (py1)"
   ]
  },
  {
   "cell_type": "markdown",
   "id": "4333c0bb",
   "metadata": {},
   "source": [
    "Formatted Strings"
   ]
  },
  {
   "cell_type": "code",
   "execution_count": 13,
   "id": "d4b4cd03",
   "metadata": {},
   "outputs": [
    {
     "name": "stdout",
     "output_type": "stream",
     "text": [
      "hellothere\n",
      "hello there\n"
     ]
    }
   ],
   "source": [
    "v1 = \"hello\"\n",
    "v2 = \"there\"\n",
    "v3 = v1+v2\n",
    "v4 = f\"{v1} {v2}\"\n",
    "print(v3)\n",
    "print(v4)"
   ]
  },
  {
   "cell_type": "markdown",
   "id": "9d3fb5e8",
   "metadata": {},
   "source": [
    "String Methods"
   ]
  },
  {
   "cell_type": "code",
   "execution_count": 18,
   "id": "fee72b61",
   "metadata": {},
   "outputs": [
    {
     "name": "stdout",
     "output_type": "stream",
     "text": [
      " THIS IS A PYTHON COURSE\n",
      " this is a python course\n",
      " This Is A Python Course\n",
      "This is a python course\n",
      "11\n",
      "True\n"
     ]
    }
   ],
   "source": [
    "astring = \" This is a python course\"\n",
    "print(astring.upper())\n",
    "print(astring.lower())\n",
    "print(astring.title())\n",
    "print(astring.strip()) #remove space\n",
    "print(astring.find(\"pyt\")) #gives index output\n",
    "print(\"pyt\" in astring) #returns boolean"
   ]
  },
  {
   "cell_type": "markdown",
   "id": "ee84622e",
   "metadata": {},
   "source": [
    "Numbers"
   ]
  },
  {
   "cell_type": "code",
   "execution_count": 19,
   "id": "4823302e",
   "metadata": {},
   "outputs": [
    {
     "name": "stdout",
     "output_type": "stream",
     "text": [
      "12\n",
      "23\n"
     ]
    }
   ],
   "source": [
    "#arithmetic operations\n",
    "print(10+2) #-,*,/,//,%,**\n",
    "x = 20\n",
    "x += 3\n",
    "print(x)"
   ]
  },
  {
   "cell_type": "markdown",
   "id": "0892fee6",
   "metadata": {},
   "source": [
    "Working with Numbers"
   ]
  },
  {
   "cell_type": "code",
   "execution_count": 21,
   "id": "3149e19f",
   "metadata": {},
   "outputs": [
    {
     "name": "stdout",
     "output_type": "stream",
     "text": [
      "4\n",
      "90.08\n",
      "5\n"
     ]
    }
   ],
   "source": [
    "import math \n",
    "print(round(3.6))\n",
    "print(abs(-90.08))\n",
    "print(math.ceil(4.5))\n"
   ]
  },
  {
   "cell_type": "markdown",
   "id": "50cb7504",
   "metadata": {},
   "source": [
    "Type Conversion"
   ]
  },
  {
   "cell_type": "code",
   "execution_count": null,
   "id": "512513eb",
   "metadata": {},
   "outputs": [
    {
     "name": "stdout",
     "output_type": "stream",
     "text": [
      "4\n"
     ]
    }
   ],
   "source": [
    "x = input(\"Write a random number\")  #input is taken as a string so shows an error if no type conversion done\n",
    "y = int(x)+1  #type converting string->int\n",
    "print(y)\n",
    "\n",
    "#false values in boolean for type conversion: \"\",0, None"
   ]
  },
  {
   "cell_type": "markdown",
   "id": "a299184d",
   "metadata": {},
   "source": [
    "Comparison Operators"
   ]
  },
  {
   "cell_type": "code",
   "execution_count": null,
   "id": "3ed0f808",
   "metadata": {},
   "outputs": [
    {
     "name": "stdout",
     "output_type": "stream",
     "text": [
      "True\n",
      "False\n",
      "True\n"
     ]
    }
   ],
   "source": [
    "print(9>3)\n",
    "print(6==8)\n",
    "print(\"bag\" > \"apple\") #bag comes after apple\n",
    "print(\"bag\" == \"BAG\") #diff values"
   ]
  },
  {
   "cell_type": "markdown",
   "id": "2336b3bc",
   "metadata": {},
   "source": [
    "Conditional Statements"
   ]
  },
  {
   "cell_type": "code",
   "execution_count": 29,
   "id": "de00cad4",
   "metadata": {},
   "outputs": [
    {
     "name": "stdout",
     "output_type": "stream",
     "text": [
      "I am greater than 9\n"
     ]
    }
   ],
   "source": [
    "i = 10\n",
    "if i > 9:\n",
    "    print(\"I am greater than 9\")\n",
    "else: \n",
    "    print(\"Not greater than 9\")"
   ]
  },
  {
   "cell_type": "markdown",
   "id": "90268b8a",
   "metadata": {},
   "source": [
    "Ternary operator"
   ]
  },
  {
   "cell_type": "code",
   "execution_count": null,
   "id": "c975dca7",
   "metadata": {},
   "outputs": [
    {
     "name": "stdout",
     "output_type": "stream",
     "text": [
      "Pass\n"
     ]
    }
   ],
   "source": [
    "grade = 'A' \n",
    "result = \"Pass\" if grade == 'A' else \"Fail\" #ternary operator\n",
    "print(result)"
   ]
  },
  {
   "cell_type": "markdown",
   "id": "17fef89f",
   "metadata": {},
   "source": [
    "Logical Operator"
   ]
  },
  {
   "cell_type": "code",
   "execution_count": 34,
   "id": "ac8e6eee",
   "metadata": {},
   "outputs": [
    {
     "name": "stdout",
     "output_type": "stream",
     "text": [
      "Either one of them\n"
     ]
    }
   ],
   "source": [
    "#and , or\n",
    "boy = True\n",
    "girl = False\n",
    "parent = False\n",
    "if (boy or girl) and not parent:\n",
    "    print(\"Either one of them\")\n",
    "else:\n",
    "    print(\"None\")"
   ]
  },
  {
   "cell_type": "markdown",
   "id": "a7a17829",
   "metadata": {},
   "source": [
    "Short-Circuit Evaluations"
   ]
  },
  {
   "cell_type": "code",
   "execution_count": 37,
   "id": "e8e540ae",
   "metadata": {},
   "outputs": [
    {
     "name": "stdout",
     "output_type": "stream",
     "text": [
      "False\n",
      "True\n"
     ]
    }
   ],
   "source": [
    "print(False and True and True) #stops at False\n",
    "print(True or False or False) #stops at true"
   ]
  },
  {
   "cell_type": "markdown",
   "id": "4f7c8aed",
   "metadata": {},
   "source": [
    "Chaining Comparison Operators"
   ]
  },
  {
   "cell_type": "code",
   "execution_count": 38,
   "id": "d1662f45",
   "metadata": {},
   "outputs": [
    {
     "name": "stdout",
     "output_type": "stream",
     "text": [
      "I am between 0 and 6\n"
     ]
    }
   ],
   "source": [
    "i=3\n",
    "if 0<i<6:\n",
    "    print(\"I am between 0 and 6\")"
   ]
  },
  {
   "cell_type": "markdown",
   "id": "45151f04",
   "metadata": {},
   "source": [
    "For Loops"
   ]
  },
  {
   "cell_type": "code",
   "execution_count": 40,
   "id": "d4f994ac",
   "metadata": {},
   "outputs": [
    {
     "name": "stdout",
     "output_type": "stream",
     "text": [
      "HI 0\n",
      "HI 1\n",
      "HI 2\n"
     ]
    }
   ],
   "source": [
    "for number in range(3):\n",
    "    print(\"HI\", number)"
   ]
  },
  {
   "cell_type": "code",
   "execution_count": 42,
   "id": "a91c4e00",
   "metadata": {},
   "outputs": [
    {
     "name": "stdout",
     "output_type": "stream",
     "text": [
      "HI 1\n",
      "HI 2\n"
     ]
    }
   ],
   "source": [
    "for number in range (1,3):\n",
    "    print(\"HI\", number)"
   ]
  },
  {
   "cell_type": "markdown",
   "id": "ff4d9f27",
   "metadata": {},
   "source": [
    "For..Else"
   ]
  },
  {
   "cell_type": "code",
   "execution_count": 44,
   "id": "f83b22a5",
   "metadata": {},
   "outputs": [
    {
     "name": "stdout",
     "output_type": "stream",
     "text": [
      "Hi\n",
      "Hi\n",
      "Hi\n",
      "tried 3 times and failed\n"
     ]
    }
   ],
   "source": [
    "successful = False\n",
    "for n in range (3):\n",
    "    print(\"Hi\")\n",
    "    if successful:\n",
    "        print(\"Success\")\n",
    "        break\n",
    "else:\n",
    "    print(\"tried 3 times and failed\")"
   ]
  },
  {
   "cell_type": "markdown",
   "id": "d5cb540f",
   "metadata": {},
   "source": [
    "Nested Loops"
   ]
  },
  {
   "cell_type": "code",
   "execution_count": 46,
   "id": "aa9fa8dc",
   "metadata": {},
   "outputs": [
    {
     "name": "stdout",
     "output_type": "stream",
     "text": [
      "(0 0)\n",
      "(0 1)\n",
      "(0 2)\n",
      "(1 0)\n",
      "(1 1)\n",
      "(1 2)\n"
     ]
    }
   ],
   "source": [
    "for x in range(2):\n",
    "    for y in range(3):\n",
    "        print(f\"({x} {y})\")"
   ]
  },
  {
   "cell_type": "markdown",
   "id": "37938970",
   "metadata": {},
   "source": [
    "Iterables"
   ]
  },
  {
   "cell_type": "code",
   "execution_count": 49,
   "id": "85d2988a",
   "metadata": {},
   "outputs": [
    {
     "name": "stdout",
     "output_type": "stream",
     "text": [
      "N\n",
      "i\n",
      "k\n",
      "k\n",
      "i\n",
      "1\n",
      "2\n",
      "3\n"
     ]
    }
   ],
   "source": [
    "#complex type-range  \n",
    "# range and string are iterable\n",
    "for x in \"Nikki\":\n",
    "    print(x)\n",
    "for x in [1,2,3]:\n",
    "    print(x)"
   ]
  },
  {
   "cell_type": "markdown",
   "id": "9cdfd87a",
   "metadata": {},
   "source": [
    "While Loop"
   ]
  },
  {
   "cell_type": "code",
   "execution_count": 50,
   "id": "02d63464",
   "metadata": {},
   "outputs": [
    {
     "name": "stdout",
     "output_type": "stream",
     "text": [
      "0\n",
      "1\n",
      "2\n"
     ]
    }
   ],
   "source": [
    "i = 0\n",
    "while i<3:\n",
    "    print(i)\n",
    "    i += 1"
   ]
  },
  {
   "cell_type": "markdown",
   "id": "6b587d34",
   "metadata": {},
   "source": [
    "Infinite Loops"
   ]
  },
  {
   "cell_type": "code",
   "execution_count": 53,
   "id": "563cdd2e",
   "metadata": {},
   "outputs": [],
   "source": [
    "while True:\n",
    "    x = input(\"\")\n",
    "    if x.lower() == \"quit\":\n",
    "        break"
   ]
  },
  {
   "cell_type": "markdown",
   "id": "3b9ec25a",
   "metadata": {},
   "source": [
    "Defining Functions"
   ]
  },
  {
   "cell_type": "code",
   "execution_count": 55,
   "id": "01c6037e",
   "metadata": {},
   "outputs": [
    {
     "name": "stdout",
     "output_type": "stream",
     "text": [
      "I AM IN MY FUNCTION\n"
     ]
    }
   ],
   "source": [
    "def my_function():\n",
    "    print(\"I AM IN MY FUNCTION\")\n",
    "\n",
    "my_function()"
   ]
  },
  {
   "cell_type": "markdown",
   "id": "37c5358b",
   "metadata": {},
   "source": [
    "Arguments"
   ]
  },
  {
   "cell_type": "code",
   "execution_count": 57,
   "id": "ce47f062",
   "metadata": {},
   "outputs": [
    {
     "name": "stdout",
     "output_type": "stream",
     "text": [
      "I AM IN MY FUNCTION 1 2\n"
     ]
    }
   ],
   "source": [
    "def my_function(i,j):\n",
    "    print(f\"I AM IN MY FUNCTION {i} {j}\")\n",
    "\n",
    "my_function(1,2)"
   ]
  },
  {
   "cell_type": "markdown",
   "id": "fc1b39e4",
   "metadata": {},
   "source": [
    "Types of Function"
   ]
  },
  {
   "cell_type": "code",
   "execution_count": 60,
   "id": "1a8e29e4",
   "metadata": {},
   "outputs": [
    {
     "name": "stdout",
     "output_type": "stream",
     "text": [
      "1\n",
      "2\n"
     ]
    }
   ],
   "source": [
    "#1 - performs a task\n",
    "#2 - returns a value\n",
    "def func(val):\n",
    "    print(val)\n",
    "\n",
    "def funct(val):\n",
    "    return val\n",
    "\n",
    "func(1)\n",
    "print(funct(2))"
   ]
  },
  {
   "cell_type": "markdown",
   "id": "7b5865ee",
   "metadata": {},
   "source": [
    "Keyword Argument"
   ]
  },
  {
   "cell_type": "code",
   "execution_count": 62,
   "id": "786fb3b1",
   "metadata": {},
   "outputs": [
    {
     "name": "stdout",
     "output_type": "stream",
     "text": [
      "2\n"
     ]
    }
   ],
   "source": [
    "def increement(no1, by):\n",
    "    return no1 + by\n",
    "\n",
    "print(increement(1, by=1))"
   ]
  },
  {
   "cell_type": "markdown",
   "id": "1aacb246",
   "metadata": {},
   "source": [
    "Default Argument"
   ]
  },
  {
   "cell_type": "code",
   "execution_count": 66,
   "id": "3d30ce71",
   "metadata": {},
   "outputs": [
    {
     "data": {
      "text/plain": [
       "6"
      ]
     },
     "execution_count": 66,
     "metadata": {},
     "output_type": "execute_result"
    }
   ],
   "source": [
    "#dont need to pass some default arg\n",
    "# should come after req parameters\n",
    "def add (no1, no2= 4):\n",
    "    return(no1+no2)\n",
    "\n",
    "add(2)"
   ]
  },
  {
   "cell_type": "markdown",
   "id": "4dea92d2",
   "metadata": {},
   "source": [
    "*args"
   ]
  },
  {
   "cell_type": "code",
   "execution_count": 68,
   "id": "03e9e856",
   "metadata": {},
   "outputs": [
    {
     "data": {
      "text/plain": [
       "10"
      ]
     },
     "execution_count": 68,
     "metadata": {},
     "output_type": "execute_result"
    }
   ],
   "source": [
    "def add(*no): #tuple and these are iterable\n",
    "    sum = 0\n",
    "    for i in no:\n",
    "        sum += i\n",
    "    return sum\n",
    "\n",
    "add(1,2,3,4)"
   ]
  }
 ],
 "metadata": {
  "kernelspec": {
   "display_name": "base",
   "language": "python",
   "name": "python3"
  },
  "language_info": {
   "codemirror_mode": {
    "name": "ipython",
    "version": 3
   },
   "file_extension": ".py",
   "mimetype": "text/x-python",
   "name": "python",
   "nbconvert_exporter": "python",
   "pygments_lexer": "ipython3",
   "version": "3.12.5"
  }
 },
 "nbformat": 4,
 "nbformat_minor": 5
}
